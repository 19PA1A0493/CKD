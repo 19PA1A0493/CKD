{
  "nbformat": 4,
  "nbformat_minor": 0,
  "metadata": {
    "colab": {
      "provenance": [],
      "authorship_tag": "ABX9TyPk9vXu7/WH30xMUNWFdjSf",
      "include_colab_link": true
    },
    "kernelspec": {
      "name": "python3",
      "display_name": "Python 3"
    },
    "language_info": {
      "name": "python"
    }
  },
  "cells": [
    {
      "cell_type": "markdown",
      "metadata": {
        "id": "view-in-github",
        "colab_type": "text"
      },
      "source": [
        "<a href=\"https://colab.research.google.com/github/19PA1A0493/CKD/blob/main/CKD.ipynb\" target=\"_parent\"><img src=\"https://colab.research.google.com/assets/colab-badge.svg\" alt=\"Open In Colab\"/></a>"
      ]
    },
    {
      "cell_type": "code",
      "source": [
        "import glob \n",
        "from keras.models import Sequential,load_model\n",
        "import numpy as np\n",
        "import pandas as pd\n",
        "from keras.layers import Dense\n",
        "from sklearn.model_selection import train_test_split\n",
        "from sklearn.preprocessing import LabelEncoder,MinMaxScaler\n",
        "import matplotlib.pyplot as plt\n",
        "import keras as k\n"
      ],
      "metadata": {
        "id": "pNnj4EOp7qcZ"
      },
      "execution_count": 113,
      "outputs": []
    },
    {
      "cell_type": "code",
      "source": [
        "df = pd.read_csv('/content/chronic  kidney.csv.csv')\n",
        "df.head(5)\n"
      ],
      "metadata": {
        "colab": {
          "base_uri": "https://localhost:8080/",
          "height": 235
        },
        "id": "jrRkpq6S752j",
        "outputId": "3e8b26d8-2b06-47af-fbdf-9e2b10888d47"
      },
      "execution_count": 114,
      "outputs": [
        {
          "output_type": "execute_result",
          "data": {
            "text/plain": [
              "   id   age    bp     sg   al   su     rbc        pc         pcc          ba  \\\n",
              "0   0  48.0  80.0  1.020  1.0  0.0     NaN    normal  notpresent  notpresent   \n",
              "1   1   7.0  50.0  1.020  4.0  0.0     NaN    normal  notpresent  notpresent   \n",
              "2   2  62.0  80.0  1.010  2.0  3.0  normal    normal  notpresent  notpresent   \n",
              "3   3  48.0  70.0  1.005  4.0  0.0  normal  abnormal     present  notpresent   \n",
              "4   4  51.0  80.0  1.010  2.0  0.0  normal    normal  notpresent  notpresent   \n",
              "\n",
              "   ...  pcv    wc   rc  htn   dm  cad appet   pe  ane classification  \n",
              "0  ...   44  7800  5.2  yes  yes   no  good   no   no            ckd  \n",
              "1  ...   38  6000  NaN   no   no   no  good   no   no            ckd  \n",
              "2  ...   31  7500  NaN   no  yes   no  poor   no  yes            ckd  \n",
              "3  ...   32  6700  3.9  yes   no   no  poor  yes  yes            ckd  \n",
              "4  ...   35  7300  4.6   no   no   no  good   no   no            ckd  \n",
              "\n",
              "[5 rows x 26 columns]"
            ],
            "text/html": [
              "\n",
              "  <div id=\"df-3d26e643-80c6-4f6d-8627-05b0cea290f6\">\n",
              "    <div class=\"colab-df-container\">\n",
              "      <div>\n",
              "<style scoped>\n",
              "    .dataframe tbody tr th:only-of-type {\n",
              "        vertical-align: middle;\n",
              "    }\n",
              "\n",
              "    .dataframe tbody tr th {\n",
              "        vertical-align: top;\n",
              "    }\n",
              "\n",
              "    .dataframe thead th {\n",
              "        text-align: right;\n",
              "    }\n",
              "</style>\n",
              "<table border=\"1\" class=\"dataframe\">\n",
              "  <thead>\n",
              "    <tr style=\"text-align: right;\">\n",
              "      <th></th>\n",
              "      <th>id</th>\n",
              "      <th>age</th>\n",
              "      <th>bp</th>\n",
              "      <th>sg</th>\n",
              "      <th>al</th>\n",
              "      <th>su</th>\n",
              "      <th>rbc</th>\n",
              "      <th>pc</th>\n",
              "      <th>pcc</th>\n",
              "      <th>ba</th>\n",
              "      <th>...</th>\n",
              "      <th>pcv</th>\n",
              "      <th>wc</th>\n",
              "      <th>rc</th>\n",
              "      <th>htn</th>\n",
              "      <th>dm</th>\n",
              "      <th>cad</th>\n",
              "      <th>appet</th>\n",
              "      <th>pe</th>\n",
              "      <th>ane</th>\n",
              "      <th>classification</th>\n",
              "    </tr>\n",
              "  </thead>\n",
              "  <tbody>\n",
              "    <tr>\n",
              "      <th>0</th>\n",
              "      <td>0</td>\n",
              "      <td>48.0</td>\n",
              "      <td>80.0</td>\n",
              "      <td>1.020</td>\n",
              "      <td>1.0</td>\n",
              "      <td>0.0</td>\n",
              "      <td>NaN</td>\n",
              "      <td>normal</td>\n",
              "      <td>notpresent</td>\n",
              "      <td>notpresent</td>\n",
              "      <td>...</td>\n",
              "      <td>44</td>\n",
              "      <td>7800</td>\n",
              "      <td>5.2</td>\n",
              "      <td>yes</td>\n",
              "      <td>yes</td>\n",
              "      <td>no</td>\n",
              "      <td>good</td>\n",
              "      <td>no</td>\n",
              "      <td>no</td>\n",
              "      <td>ckd</td>\n",
              "    </tr>\n",
              "    <tr>\n",
              "      <th>1</th>\n",
              "      <td>1</td>\n",
              "      <td>7.0</td>\n",
              "      <td>50.0</td>\n",
              "      <td>1.020</td>\n",
              "      <td>4.0</td>\n",
              "      <td>0.0</td>\n",
              "      <td>NaN</td>\n",
              "      <td>normal</td>\n",
              "      <td>notpresent</td>\n",
              "      <td>notpresent</td>\n",
              "      <td>...</td>\n",
              "      <td>38</td>\n",
              "      <td>6000</td>\n",
              "      <td>NaN</td>\n",
              "      <td>no</td>\n",
              "      <td>no</td>\n",
              "      <td>no</td>\n",
              "      <td>good</td>\n",
              "      <td>no</td>\n",
              "      <td>no</td>\n",
              "      <td>ckd</td>\n",
              "    </tr>\n",
              "    <tr>\n",
              "      <th>2</th>\n",
              "      <td>2</td>\n",
              "      <td>62.0</td>\n",
              "      <td>80.0</td>\n",
              "      <td>1.010</td>\n",
              "      <td>2.0</td>\n",
              "      <td>3.0</td>\n",
              "      <td>normal</td>\n",
              "      <td>normal</td>\n",
              "      <td>notpresent</td>\n",
              "      <td>notpresent</td>\n",
              "      <td>...</td>\n",
              "      <td>31</td>\n",
              "      <td>7500</td>\n",
              "      <td>NaN</td>\n",
              "      <td>no</td>\n",
              "      <td>yes</td>\n",
              "      <td>no</td>\n",
              "      <td>poor</td>\n",
              "      <td>no</td>\n",
              "      <td>yes</td>\n",
              "      <td>ckd</td>\n",
              "    </tr>\n",
              "    <tr>\n",
              "      <th>3</th>\n",
              "      <td>3</td>\n",
              "      <td>48.0</td>\n",
              "      <td>70.0</td>\n",
              "      <td>1.005</td>\n",
              "      <td>4.0</td>\n",
              "      <td>0.0</td>\n",
              "      <td>normal</td>\n",
              "      <td>abnormal</td>\n",
              "      <td>present</td>\n",
              "      <td>notpresent</td>\n",
              "      <td>...</td>\n",
              "      <td>32</td>\n",
              "      <td>6700</td>\n",
              "      <td>3.9</td>\n",
              "      <td>yes</td>\n",
              "      <td>no</td>\n",
              "      <td>no</td>\n",
              "      <td>poor</td>\n",
              "      <td>yes</td>\n",
              "      <td>yes</td>\n",
              "      <td>ckd</td>\n",
              "    </tr>\n",
              "    <tr>\n",
              "      <th>4</th>\n",
              "      <td>4</td>\n",
              "      <td>51.0</td>\n",
              "      <td>80.0</td>\n",
              "      <td>1.010</td>\n",
              "      <td>2.0</td>\n",
              "      <td>0.0</td>\n",
              "      <td>normal</td>\n",
              "      <td>normal</td>\n",
              "      <td>notpresent</td>\n",
              "      <td>notpresent</td>\n",
              "      <td>...</td>\n",
              "      <td>35</td>\n",
              "      <td>7300</td>\n",
              "      <td>4.6</td>\n",
              "      <td>no</td>\n",
              "      <td>no</td>\n",
              "      <td>no</td>\n",
              "      <td>good</td>\n",
              "      <td>no</td>\n",
              "      <td>no</td>\n",
              "      <td>ckd</td>\n",
              "    </tr>\n",
              "  </tbody>\n",
              "</table>\n",
              "<p>5 rows × 26 columns</p>\n",
              "</div>\n",
              "      <button class=\"colab-df-convert\" onclick=\"convertToInteractive('df-3d26e643-80c6-4f6d-8627-05b0cea290f6')\"\n",
              "              title=\"Convert this dataframe to an interactive table.\"\n",
              "              style=\"display:none;\">\n",
              "        \n",
              "  <svg xmlns=\"http://www.w3.org/2000/svg\" height=\"24px\"viewBox=\"0 0 24 24\"\n",
              "       width=\"24px\">\n",
              "    <path d=\"M0 0h24v24H0V0z\" fill=\"none\"/>\n",
              "    <path d=\"M18.56 5.44l.94 2.06.94-2.06 2.06-.94-2.06-.94-.94-2.06-.94 2.06-2.06.94zm-11 1L8.5 8.5l.94-2.06 2.06-.94-2.06-.94L8.5 2.5l-.94 2.06-2.06.94zm10 10l.94 2.06.94-2.06 2.06-.94-2.06-.94-.94-2.06-.94 2.06-2.06.94z\"/><path d=\"M17.41 7.96l-1.37-1.37c-.4-.4-.92-.59-1.43-.59-.52 0-1.04.2-1.43.59L10.3 9.45l-7.72 7.72c-.78.78-.78 2.05 0 2.83L4 21.41c.39.39.9.59 1.41.59.51 0 1.02-.2 1.41-.59l7.78-7.78 2.81-2.81c.8-.78.8-2.07 0-2.86zM5.41 20L4 18.59l7.72-7.72 1.47 1.35L5.41 20z\"/>\n",
              "  </svg>\n",
              "      </button>\n",
              "      \n",
              "  <style>\n",
              "    .colab-df-container {\n",
              "      display:flex;\n",
              "      flex-wrap:wrap;\n",
              "      gap: 12px;\n",
              "    }\n",
              "\n",
              "    .colab-df-convert {\n",
              "      background-color: #E8F0FE;\n",
              "      border: none;\n",
              "      border-radius: 50%;\n",
              "      cursor: pointer;\n",
              "      display: none;\n",
              "      fill: #1967D2;\n",
              "      height: 32px;\n",
              "      padding: 0 0 0 0;\n",
              "      width: 32px;\n",
              "    }\n",
              "\n",
              "    .colab-df-convert:hover {\n",
              "      background-color: #E2EBFA;\n",
              "      box-shadow: 0px 1px 2px rgba(60, 64, 67, 0.3), 0px 1px 3px 1px rgba(60, 64, 67, 0.15);\n",
              "      fill: #174EA6;\n",
              "    }\n",
              "\n",
              "    [theme=dark] .colab-df-convert {\n",
              "      background-color: #3B4455;\n",
              "      fill: #D2E3FC;\n",
              "    }\n",
              "\n",
              "    [theme=dark] .colab-df-convert:hover {\n",
              "      background-color: #434B5C;\n",
              "      box-shadow: 0px 1px 3px 1px rgba(0, 0, 0, 0.15);\n",
              "      filter: drop-shadow(0px 1px 2px rgba(0, 0, 0, 0.3));\n",
              "      fill: #FFFFFF;\n",
              "    }\n",
              "  </style>\n",
              "\n",
              "      <script>\n",
              "        const buttonEl =\n",
              "          document.querySelector('#df-3d26e643-80c6-4f6d-8627-05b0cea290f6 button.colab-df-convert');\n",
              "        buttonEl.style.display =\n",
              "          google.colab.kernel.accessAllowed ? 'block' : 'none';\n",
              "\n",
              "        async function convertToInteractive(key) {\n",
              "          const element = document.querySelector('#df-3d26e643-80c6-4f6d-8627-05b0cea290f6');\n",
              "          const dataTable =\n",
              "            await google.colab.kernel.invokeFunction('convertToInteractive',\n",
              "                                                     [key], {});\n",
              "          if (!dataTable) return;\n",
              "\n",
              "          const docLinkHtml = 'Like what you see? Visit the ' +\n",
              "            '<a target=\"_blank\" href=https://colab.research.google.com/notebooks/data_table.ipynb>data table notebook</a>'\n",
              "            + ' to learn more about interactive tables.';\n",
              "          element.innerHTML = '';\n",
              "          dataTable['output_type'] = 'display_data';\n",
              "          await google.colab.output.renderOutput(dataTable, element);\n",
              "          const docLink = document.createElement('div');\n",
              "          docLink.innerHTML = docLinkHtml;\n",
              "          element.appendChild(docLink);\n",
              "        }\n",
              "      </script>\n",
              "    </div>\n",
              "  </div>\n",
              "  "
            ]
          },
          "metadata": {},
          "execution_count": 114
        }
      ]
    },
    {
      "cell_type": "code",
      "source": [
        "df.shape\n"
      ],
      "metadata": {
        "colab": {
          "base_uri": "https://localhost:8080/"
        },
        "id": "Pu_JvxTz8Fhl",
        "outputId": "137387f9-03b6-4940-a790-4d6e11c4f755"
      },
      "execution_count": 115,
      "outputs": [
        {
          "output_type": "execute_result",
          "data": {
            "text/plain": [
              "(400, 26)"
            ]
          },
          "metadata": {},
          "execution_count": 115
        }
      ]
    },
    {
      "cell_type": "code",
      "source": [
        "columns_to_retain = ['sg','al','sc','hemo','pcv','wbcc','rbcc','htn','classification']\n",
        "df = df.drop( [col for col in df.columns if not col in columns_to_retain] , axis=1 )\n",
        "df = df.dropna(axis=0)\n",
        "\n"
      ],
      "metadata": {
        "id": "GHDOUMYZ_YlS"
      },
      "execution_count": 116,
      "outputs": []
    },
    {
      "cell_type": "code",
      "source": [
        "for column in df.columns:\n",
        "    if df[column].dtype == np.number:\n",
        "      continue\n",
        "    df[column] = LabelEncoder().fit_transform( df[column] )\n"
      ],
      "metadata": {
        "colab": {
          "base_uri": "https://localhost:8080/"
        },
        "id": "V3JrBA1X_dqB",
        "outputId": "5a98bebd-9858-4bad-c28b-3b6fd1bef7ec"
      },
      "execution_count": 117,
      "outputs": [
        {
          "output_type": "stream",
          "name": "stderr",
          "text": [
            "/usr/local/lib/python3.7/dist-packages/ipykernel_launcher.py:2: DeprecationWarning: Converting `np.inexact` or `np.floating` to a dtype is deprecated. The current result is `float64` which is not strictly correct.\n",
            "  \n"
          ]
        }
      ]
    },
    {
      "cell_type": "code",
      "source": [
        "df.head()\n"
      ],
      "metadata": {
        "colab": {
          "base_uri": "https://localhost:8080/",
          "height": 206
        },
        "id": "pVe3_cLM_iQz",
        "outputId": "88dd0d44-ba21-4225-bd0f-5a22528dd9d4"
      },
      "execution_count": 118,
      "outputs": [
        {
          "output_type": "execute_result",
          "data": {
            "text/plain": [
              "      sg   al   sc  hemo  pcv  htn  classification\n",
              "0  1.020  1.0  1.2  15.4   28    1               0\n",
              "1  1.020  4.0  0.8  11.3   22    0               0\n",
              "2  1.010  2.0  1.8   9.6   15    0               0\n",
              "3  1.005  4.0  3.8  11.2   16    1               0\n",
              "4  1.010  2.0  1.4  11.6   19    0               0"
            ],
            "text/html": [
              "\n",
              "  <div id=\"df-082fbdf5-0e70-4ede-9fb3-43d8567bbc25\">\n",
              "    <div class=\"colab-df-container\">\n",
              "      <div>\n",
              "<style scoped>\n",
              "    .dataframe tbody tr th:only-of-type {\n",
              "        vertical-align: middle;\n",
              "    }\n",
              "\n",
              "    .dataframe tbody tr th {\n",
              "        vertical-align: top;\n",
              "    }\n",
              "\n",
              "    .dataframe thead th {\n",
              "        text-align: right;\n",
              "    }\n",
              "</style>\n",
              "<table border=\"1\" class=\"dataframe\">\n",
              "  <thead>\n",
              "    <tr style=\"text-align: right;\">\n",
              "      <th></th>\n",
              "      <th>sg</th>\n",
              "      <th>al</th>\n",
              "      <th>sc</th>\n",
              "      <th>hemo</th>\n",
              "      <th>pcv</th>\n",
              "      <th>htn</th>\n",
              "      <th>classification</th>\n",
              "    </tr>\n",
              "  </thead>\n",
              "  <tbody>\n",
              "    <tr>\n",
              "      <th>0</th>\n",
              "      <td>1.020</td>\n",
              "      <td>1.0</td>\n",
              "      <td>1.2</td>\n",
              "      <td>15.4</td>\n",
              "      <td>28</td>\n",
              "      <td>1</td>\n",
              "      <td>0</td>\n",
              "    </tr>\n",
              "    <tr>\n",
              "      <th>1</th>\n",
              "      <td>1.020</td>\n",
              "      <td>4.0</td>\n",
              "      <td>0.8</td>\n",
              "      <td>11.3</td>\n",
              "      <td>22</td>\n",
              "      <td>0</td>\n",
              "      <td>0</td>\n",
              "    </tr>\n",
              "    <tr>\n",
              "      <th>2</th>\n",
              "      <td>1.010</td>\n",
              "      <td>2.0</td>\n",
              "      <td>1.8</td>\n",
              "      <td>9.6</td>\n",
              "      <td>15</td>\n",
              "      <td>0</td>\n",
              "      <td>0</td>\n",
              "    </tr>\n",
              "    <tr>\n",
              "      <th>3</th>\n",
              "      <td>1.005</td>\n",
              "      <td>4.0</td>\n",
              "      <td>3.8</td>\n",
              "      <td>11.2</td>\n",
              "      <td>16</td>\n",
              "      <td>1</td>\n",
              "      <td>0</td>\n",
              "    </tr>\n",
              "    <tr>\n",
              "      <th>4</th>\n",
              "      <td>1.010</td>\n",
              "      <td>2.0</td>\n",
              "      <td>1.4</td>\n",
              "      <td>11.6</td>\n",
              "      <td>19</td>\n",
              "      <td>0</td>\n",
              "      <td>0</td>\n",
              "    </tr>\n",
              "  </tbody>\n",
              "</table>\n",
              "</div>\n",
              "      <button class=\"colab-df-convert\" onclick=\"convertToInteractive('df-082fbdf5-0e70-4ede-9fb3-43d8567bbc25')\"\n",
              "              title=\"Convert this dataframe to an interactive table.\"\n",
              "              style=\"display:none;\">\n",
              "        \n",
              "  <svg xmlns=\"http://www.w3.org/2000/svg\" height=\"24px\"viewBox=\"0 0 24 24\"\n",
              "       width=\"24px\">\n",
              "    <path d=\"M0 0h24v24H0V0z\" fill=\"none\"/>\n",
              "    <path d=\"M18.56 5.44l.94 2.06.94-2.06 2.06-.94-2.06-.94-.94-2.06-.94 2.06-2.06.94zm-11 1L8.5 8.5l.94-2.06 2.06-.94-2.06-.94L8.5 2.5l-.94 2.06-2.06.94zm10 10l.94 2.06.94-2.06 2.06-.94-2.06-.94-.94-2.06-.94 2.06-2.06.94z\"/><path d=\"M17.41 7.96l-1.37-1.37c-.4-.4-.92-.59-1.43-.59-.52 0-1.04.2-1.43.59L10.3 9.45l-7.72 7.72c-.78.78-.78 2.05 0 2.83L4 21.41c.39.39.9.59 1.41.59.51 0 1.02-.2 1.41-.59l7.78-7.78 2.81-2.81c.8-.78.8-2.07 0-2.86zM5.41 20L4 18.59l7.72-7.72 1.47 1.35L5.41 20z\"/>\n",
              "  </svg>\n",
              "      </button>\n",
              "      \n",
              "  <style>\n",
              "    .colab-df-container {\n",
              "      display:flex;\n",
              "      flex-wrap:wrap;\n",
              "      gap: 12px;\n",
              "    }\n",
              "\n",
              "    .colab-df-convert {\n",
              "      background-color: #E8F0FE;\n",
              "      border: none;\n",
              "      border-radius: 50%;\n",
              "      cursor: pointer;\n",
              "      display: none;\n",
              "      fill: #1967D2;\n",
              "      height: 32px;\n",
              "      padding: 0 0 0 0;\n",
              "      width: 32px;\n",
              "    }\n",
              "\n",
              "    .colab-df-convert:hover {\n",
              "      background-color: #E2EBFA;\n",
              "      box-shadow: 0px 1px 2px rgba(60, 64, 67, 0.3), 0px 1px 3px 1px rgba(60, 64, 67, 0.15);\n",
              "      fill: #174EA6;\n",
              "    }\n",
              "\n",
              "    [theme=dark] .colab-df-convert {\n",
              "      background-color: #3B4455;\n",
              "      fill: #D2E3FC;\n",
              "    }\n",
              "\n",
              "    [theme=dark] .colab-df-convert:hover {\n",
              "      background-color: #434B5C;\n",
              "      box-shadow: 0px 1px 3px 1px rgba(0, 0, 0, 0.15);\n",
              "      filter: drop-shadow(0px 1px 2px rgba(0, 0, 0, 0.3));\n",
              "      fill: #FFFFFF;\n",
              "    }\n",
              "  </style>\n",
              "\n",
              "      <script>\n",
              "        const buttonEl =\n",
              "          document.querySelector('#df-082fbdf5-0e70-4ede-9fb3-43d8567bbc25 button.colab-df-convert');\n",
              "        buttonEl.style.display =\n",
              "          google.colab.kernel.accessAllowed ? 'block' : 'none';\n",
              "\n",
              "        async function convertToInteractive(key) {\n",
              "          const element = document.querySelector('#df-082fbdf5-0e70-4ede-9fb3-43d8567bbc25');\n",
              "          const dataTable =\n",
              "            await google.colab.kernel.invokeFunction('convertToInteractive',\n",
              "                                                     [key], {});\n",
              "          if (!dataTable) return;\n",
              "\n",
              "          const docLinkHtml = 'Like what you see? Visit the ' +\n",
              "            '<a target=\"_blank\" href=https://colab.research.google.com/notebooks/data_table.ipynb>data table notebook</a>'\n",
              "            + ' to learn more about interactive tables.';\n",
              "          element.innerHTML = '';\n",
              "          dataTable['output_type'] = 'display_data';\n",
              "          await google.colab.output.renderOutput(dataTable, element);\n",
              "          const docLink = document.createElement('div');\n",
              "          docLink.innerHTML = docLinkHtml;\n",
              "          element.appendChild(docLink);\n",
              "        }\n",
              "      </script>\n",
              "    </div>\n",
              "  </div>\n",
              "  "
            ]
          },
          "metadata": {},
          "execution_count": 118
        }
      ]
    },
    {
      "cell_type": "code",
      "source": [
        "x = df.drop(['classification'],axis=1)\n",
        "y = df['classification']\n",
        "\n"
      ],
      "metadata": {
        "id": "-moQHdYx_mYv"
      },
      "execution_count": 119,
      "outputs": []
    },
    {
      "cell_type": "code",
      "source": [
        "x_scaler = MinMaxScaler()\n",
        "x_scaler.fit(x)\n",
        "column_names = x.columns\n",
        "x[column_names] = x_scaler.transform(x)\n",
        "\n"
      ],
      "metadata": {
        "id": "Nl3qqJRJ_0Gp"
      },
      "execution_count": 120,
      "outputs": []
    },
    {
      "cell_type": "code",
      "source": [
        "x_train, x_test, y_train, y_test = train_test_split(x,y,test_size=0.4, shuffle=True)\n"
      ],
      "metadata": {
        "id": "CQ98f3-r_3nY"
      },
      "execution_count": 168,
      "outputs": []
    },
    {
      "cell_type": "code",
      "source": [
        "model = Sequential()\n",
        "model.add( Dense(256, input_dim= len(x.columns), kernel_initializer=k.initializers.random_normal(seed=13), activation='relu'))\n",
        "model.add( Dense(1, activation='hard_sigmoid'))\n",
        "\n"
      ],
      "metadata": {
        "id": "4aX_nt-B_6LP"
      },
      "execution_count": 169,
      "outputs": []
    },
    {
      "cell_type": "code",
      "source": [
        "model.compile(loss='binary_crossentropy', optimizer='adam', metrics=['accuracy'])\n"
      ],
      "metadata": {
        "id": "_9OWAfOL_9xE"
      },
      "execution_count": 170,
      "outputs": []
    },
    {
      "cell_type": "code",
      "source": [
        "history = model.fit(x_train, y_train, epochs=200, batch_size= x_train.shape[0])\n"
      ],
      "metadata": {
        "colab": {
          "base_uri": "https://localhost:8080/"
        },
        "id": "lN8bNCogABoU",
        "outputId": "bf104c73-a173-4f01-95cf-c74d5d76838c"
      },
      "execution_count": 171,
      "outputs": [
        {
          "output_type": "stream",
          "name": "stdout",
          "text": [
            "Epoch 1/200\n",
            "1/1 [==============================] - 0s 429ms/step - loss: 0.6887 - accuracy: 0.5465\n",
            "Epoch 2/200\n",
            "1/1 [==============================] - 0s 11ms/step - loss: 0.6812 - accuracy: 0.5465\n",
            "Epoch 3/200\n",
            "1/1 [==============================] - 0s 11ms/step - loss: 0.6738 - accuracy: 0.6279\n",
            "Epoch 4/200\n",
            "1/1 [==============================] - 0s 11ms/step - loss: 0.6665 - accuracy: 0.9651\n",
            "Epoch 5/200\n",
            "1/1 [==============================] - 0s 9ms/step - loss: 0.6594 - accuracy: 0.9651\n",
            "Epoch 6/200\n",
            "1/1 [==============================] - 0s 8ms/step - loss: 0.6524 - accuracy: 0.9419\n",
            "Epoch 7/200\n",
            "1/1 [==============================] - 0s 9ms/step - loss: 0.6455 - accuracy: 0.9360\n",
            "Epoch 8/200\n",
            "1/1 [==============================] - 0s 7ms/step - loss: 0.6387 - accuracy: 0.9302\n",
            "Epoch 9/200\n",
            "1/1 [==============================] - 0s 10ms/step - loss: 0.6321 - accuracy: 0.9244\n",
            "Epoch 10/200\n",
            "1/1 [==============================] - 0s 7ms/step - loss: 0.6255 - accuracy: 0.9244\n",
            "Epoch 11/200\n",
            "1/1 [==============================] - 0s 10ms/step - loss: 0.6190 - accuracy: 0.9186\n",
            "Epoch 12/200\n",
            "1/1 [==============================] - 0s 7ms/step - loss: 0.6126 - accuracy: 0.9186\n",
            "Epoch 13/200\n",
            "1/1 [==============================] - 0s 7ms/step - loss: 0.6062 - accuracy: 0.9128\n",
            "Epoch 14/200\n",
            "1/1 [==============================] - 0s 11ms/step - loss: 0.5999 - accuracy: 0.9128\n",
            "Epoch 15/200\n",
            "1/1 [==============================] - 0s 8ms/step - loss: 0.5936 - accuracy: 0.9070\n",
            "Epoch 16/200\n",
            "1/1 [==============================] - 0s 10ms/step - loss: 0.5873 - accuracy: 0.9012\n",
            "Epoch 17/200\n",
            "1/1 [==============================] - 0s 8ms/step - loss: 0.5810 - accuracy: 0.8953\n",
            "Epoch 18/200\n",
            "1/1 [==============================] - 0s 10ms/step - loss: 0.5747 - accuracy: 0.8953\n",
            "Epoch 19/200\n",
            "1/1 [==============================] - 0s 8ms/step - loss: 0.5684 - accuracy: 0.8953\n",
            "Epoch 20/200\n",
            "1/1 [==============================] - 0s 8ms/step - loss: 0.5621 - accuracy: 0.8953\n",
            "Epoch 21/200\n",
            "1/1 [==============================] - 0s 11ms/step - loss: 0.5558 - accuracy: 0.8895\n",
            "Epoch 22/200\n",
            "1/1 [==============================] - 0s 7ms/step - loss: 0.5495 - accuracy: 0.8895\n",
            "Epoch 23/200\n",
            "1/1 [==============================] - 0s 7ms/step - loss: 0.5431 - accuracy: 0.8895\n",
            "Epoch 24/200\n",
            "1/1 [==============================] - 0s 10ms/step - loss: 0.5368 - accuracy: 0.8895\n",
            "Epoch 25/200\n",
            "1/1 [==============================] - 0s 8ms/step - loss: 0.5304 - accuracy: 0.8895\n",
            "Epoch 26/200\n",
            "1/1 [==============================] - 0s 8ms/step - loss: 0.5240 - accuracy: 0.8895\n",
            "Epoch 27/200\n",
            "1/1 [==============================] - 0s 8ms/step - loss: 0.5175 - accuracy: 0.8895\n",
            "Epoch 28/200\n",
            "1/1 [==============================] - 0s 9ms/step - loss: 0.5110 - accuracy: 0.8895\n",
            "Epoch 29/200\n",
            "1/1 [==============================] - 0s 9ms/step - loss: 0.5043 - accuracy: 0.8895\n",
            "Epoch 30/200\n",
            "1/1 [==============================] - 0s 8ms/step - loss: 0.4977 - accuracy: 0.8953\n",
            "Epoch 31/200\n",
            "1/1 [==============================] - 0s 7ms/step - loss: 0.4909 - accuracy: 0.8953\n",
            "Epoch 32/200\n",
            "1/1 [==============================] - 0s 8ms/step - loss: 0.4841 - accuracy: 0.8953\n",
            "Epoch 33/200\n",
            "1/1 [==============================] - 0s 8ms/step - loss: 0.4773 - accuracy: 0.8953\n",
            "Epoch 34/200\n",
            "1/1 [==============================] - 0s 8ms/step - loss: 0.4704 - accuracy: 0.8953\n",
            "Epoch 35/200\n",
            "1/1 [==============================] - 0s 8ms/step - loss: 0.4635 - accuracy: 0.9012\n",
            "Epoch 36/200\n",
            "1/1 [==============================] - 0s 12ms/step - loss: 0.4565 - accuracy: 0.9012\n",
            "Epoch 37/200\n",
            "1/1 [==============================] - 0s 8ms/step - loss: 0.4495 - accuracy: 0.9012\n",
            "Epoch 38/200\n",
            "1/1 [==============================] - 0s 8ms/step - loss: 0.4425 - accuracy: 0.9012\n",
            "Epoch 39/200\n",
            "1/1 [==============================] - 0s 7ms/step - loss: 0.4353 - accuracy: 0.9012\n",
            "Epoch 40/200\n",
            "1/1 [==============================] - 0s 9ms/step - loss: 0.4281 - accuracy: 0.9012\n",
            "Epoch 41/200\n",
            "1/1 [==============================] - 0s 8ms/step - loss: 0.4208 - accuracy: 0.9012\n",
            "Epoch 42/200\n",
            "1/1 [==============================] - 0s 9ms/step - loss: 0.4135 - accuracy: 0.9012\n",
            "Epoch 43/200\n",
            "1/1 [==============================] - 0s 9ms/step - loss: 0.4061 - accuracy: 0.9012\n",
            "Epoch 44/200\n",
            "1/1 [==============================] - 0s 9ms/step - loss: 0.3986 - accuracy: 0.9012\n",
            "Epoch 45/200\n",
            "1/1 [==============================] - 0s 8ms/step - loss: 0.3911 - accuracy: 0.9070\n",
            "Epoch 46/200\n",
            "1/1 [==============================] - 0s 9ms/step - loss: 0.3836 - accuracy: 0.9070\n",
            "Epoch 47/200\n",
            "1/1 [==============================] - 0s 9ms/step - loss: 0.3761 - accuracy: 0.9070\n",
            "Epoch 48/200\n",
            "1/1 [==============================] - 0s 9ms/step - loss: 0.3685 - accuracy: 0.9070\n",
            "Epoch 49/200\n",
            "1/1 [==============================] - 0s 9ms/step - loss: 0.3609 - accuracy: 0.9070\n",
            "Epoch 50/200\n",
            "1/1 [==============================] - 0s 9ms/step - loss: 0.3533 - accuracy: 0.9070\n",
            "Epoch 51/200\n",
            "1/1 [==============================] - 0s 9ms/step - loss: 0.3456 - accuracy: 0.9070\n",
            "Epoch 52/200\n",
            "1/1 [==============================] - 0s 9ms/step - loss: 0.3379 - accuracy: 0.9070\n",
            "Epoch 53/200\n",
            "1/1 [==============================] - 0s 9ms/step - loss: 0.3303 - accuracy: 0.9070\n",
            "Epoch 54/200\n",
            "1/1 [==============================] - 0s 9ms/step - loss: 0.3226 - accuracy: 0.9070\n",
            "Epoch 55/200\n",
            "1/1 [==============================] - 0s 8ms/step - loss: 0.3150 - accuracy: 0.9070\n",
            "Epoch 56/200\n",
            "1/1 [==============================] - 0s 13ms/step - loss: 0.3074 - accuracy: 0.9070\n",
            "Epoch 57/200\n",
            "1/1 [==============================] - 0s 9ms/step - loss: 0.3000 - accuracy: 0.9070\n",
            "Epoch 58/200\n",
            "1/1 [==============================] - 0s 10ms/step - loss: 0.2926 - accuracy: 0.9070\n",
            "Epoch 59/200\n",
            "1/1 [==============================] - 0s 9ms/step - loss: 0.2855 - accuracy: 0.9070\n",
            "Epoch 60/200\n",
            "1/1 [==============================] - 0s 9ms/step - loss: 0.2784 - accuracy: 0.9070\n",
            "Epoch 61/200\n",
            "1/1 [==============================] - 0s 9ms/step - loss: 0.2717 - accuracy: 0.9128\n",
            "Epoch 62/200\n",
            "1/1 [==============================] - 0s 8ms/step - loss: 0.2651 - accuracy: 0.9128\n",
            "Epoch 63/200\n",
            "1/1 [==============================] - 0s 8ms/step - loss: 0.2587 - accuracy: 0.9128\n",
            "Epoch 64/200\n",
            "1/1 [==============================] - 0s 9ms/step - loss: 0.2524 - accuracy: 0.9128\n",
            "Epoch 65/200\n",
            "1/1 [==============================] - 0s 11ms/step - loss: 0.2462 - accuracy: 0.9128\n",
            "Epoch 66/200\n",
            "1/1 [==============================] - 0s 12ms/step - loss: 0.2403 - accuracy: 0.9128\n",
            "Epoch 67/200\n",
            "1/1 [==============================] - 0s 10ms/step - loss: 0.2345 - accuracy: 0.9128\n",
            "Epoch 68/200\n",
            "1/1 [==============================] - 0s 9ms/step - loss: 0.2290 - accuracy: 0.9128\n",
            "Epoch 69/200\n",
            "1/1 [==============================] - 0s 9ms/step - loss: 0.2236 - accuracy: 0.9128\n",
            "Epoch 70/200\n",
            "1/1 [==============================] - 0s 8ms/step - loss: 0.2185 - accuracy: 0.9128\n",
            "Epoch 71/200\n",
            "1/1 [==============================] - 0s 8ms/step - loss: 0.2135 - accuracy: 0.9128\n",
            "Epoch 72/200\n",
            "1/1 [==============================] - 0s 8ms/step - loss: 0.2087 - accuracy: 0.9128\n",
            "Epoch 73/200\n",
            "1/1 [==============================] - 0s 8ms/step - loss: 0.2039 - accuracy: 0.9128\n",
            "Epoch 74/200\n",
            "1/1 [==============================] - 0s 8ms/step - loss: 0.1993 - accuracy: 0.9128\n",
            "Epoch 75/200\n",
            "1/1 [==============================] - 0s 8ms/step - loss: 0.1950 - accuracy: 0.9128\n",
            "Epoch 76/200\n",
            "1/1 [==============================] - 0s 13ms/step - loss: 0.1908 - accuracy: 0.9128\n",
            "Epoch 77/200\n",
            "1/1 [==============================] - 0s 7ms/step - loss: 0.1869 - accuracy: 0.9128\n",
            "Epoch 78/200\n",
            "1/1 [==============================] - 0s 7ms/step - loss: 0.1832 - accuracy: 0.9128\n",
            "Epoch 79/200\n",
            "1/1 [==============================] - 0s 7ms/step - loss: 0.1796 - accuracy: 0.9128\n",
            "Epoch 80/200\n",
            "1/1 [==============================] - 0s 7ms/step - loss: 0.1762 - accuracy: 0.9128\n",
            "Epoch 81/200\n",
            "1/1 [==============================] - 0s 8ms/step - loss: 0.1729 - accuracy: 0.9128\n",
            "Epoch 82/200\n",
            "1/1 [==============================] - 0s 9ms/step - loss: 0.1698 - accuracy: 0.9128\n",
            "Epoch 83/200\n",
            "1/1 [==============================] - 0s 8ms/step - loss: 0.1670 - accuracy: 0.9128\n",
            "Epoch 84/200\n",
            "1/1 [==============================] - 0s 8ms/step - loss: 0.1642 - accuracy: 0.9128\n",
            "Epoch 85/200\n",
            "1/1 [==============================] - 0s 8ms/step - loss: 0.1616 - accuracy: 0.9128\n",
            "Epoch 86/200\n",
            "1/1 [==============================] - 0s 8ms/step - loss: 0.1590 - accuracy: 0.9128\n",
            "Epoch 87/200\n",
            "1/1 [==============================] - 0s 9ms/step - loss: 0.1565 - accuracy: 0.9186\n",
            "Epoch 88/200\n",
            "1/1 [==============================] - 0s 8ms/step - loss: 0.1541 - accuracy: 0.9186\n",
            "Epoch 89/200\n",
            "1/1 [==============================] - 0s 8ms/step - loss: 0.1518 - accuracy: 0.9186\n",
            "Epoch 90/200\n",
            "1/1 [==============================] - 0s 13ms/step - loss: 0.1496 - accuracy: 0.9244\n",
            "Epoch 91/200\n",
            "1/1 [==============================] - 0s 8ms/step - loss: 0.1475 - accuracy: 0.9244\n",
            "Epoch 92/200\n",
            "1/1 [==============================] - 0s 8ms/step - loss: 0.1455 - accuracy: 0.9244\n",
            "Epoch 93/200\n",
            "1/1 [==============================] - 0s 8ms/step - loss: 0.1435 - accuracy: 0.9302\n",
            "Epoch 94/200\n",
            "1/1 [==============================] - 0s 8ms/step - loss: 0.1416 - accuracy: 0.9302\n",
            "Epoch 95/200\n",
            "1/1 [==============================] - 0s 8ms/step - loss: 0.1398 - accuracy: 0.9360\n",
            "Epoch 96/200\n",
            "1/1 [==============================] - 0s 14ms/step - loss: 0.1381 - accuracy: 0.9360\n",
            "Epoch 97/200\n",
            "1/1 [==============================] - 0s 8ms/step - loss: 0.1364 - accuracy: 0.9360\n",
            "Epoch 98/200\n",
            "1/1 [==============================] - 0s 8ms/step - loss: 0.1349 - accuracy: 0.9360\n",
            "Epoch 99/200\n",
            "1/1 [==============================] - 0s 7ms/step - loss: 0.1334 - accuracy: 0.9360\n",
            "Epoch 100/200\n",
            "1/1 [==============================] - 0s 8ms/step - loss: 0.1319 - accuracy: 0.9360\n",
            "Epoch 101/200\n",
            "1/1 [==============================] - 0s 8ms/step - loss: 0.1305 - accuracy: 0.9360\n",
            "Epoch 102/200\n",
            "1/1 [==============================] - 0s 9ms/step - loss: 0.1292 - accuracy: 0.9360\n",
            "Epoch 103/200\n",
            "1/1 [==============================] - 0s 8ms/step - loss: 0.1279 - accuracy: 0.9360\n",
            "Epoch 104/200\n",
            "1/1 [==============================] - 0s 9ms/step - loss: 0.1266 - accuracy: 0.9419\n",
            "Epoch 105/200\n",
            "1/1 [==============================] - 0s 9ms/step - loss: 0.1253 - accuracy: 0.9419\n",
            "Epoch 106/200\n",
            "1/1 [==============================] - 0s 9ms/step - loss: 0.1241 - accuracy: 0.9419\n",
            "Epoch 107/200\n",
            "1/1 [==============================] - 0s 8ms/step - loss: 0.1229 - accuracy: 0.9419\n",
            "Epoch 108/200\n",
            "1/1 [==============================] - 0s 8ms/step - loss: 0.1217 - accuracy: 0.9419\n",
            "Epoch 109/200\n",
            "1/1 [==============================] - 0s 8ms/step - loss: 0.1206 - accuracy: 0.9419\n",
            "Epoch 110/200\n",
            "1/1 [==============================] - 0s 9ms/step - loss: 0.1194 - accuracy: 0.9419\n",
            "Epoch 111/200\n",
            "1/1 [==============================] - 0s 8ms/step - loss: 0.1183 - accuracy: 0.9419\n",
            "Epoch 112/200\n",
            "1/1 [==============================] - 0s 8ms/step - loss: 0.1172 - accuracy: 0.9419\n",
            "Epoch 113/200\n",
            "1/1 [==============================] - 0s 8ms/step - loss: 0.1161 - accuracy: 0.9477\n",
            "Epoch 114/200\n",
            "1/1 [==============================] - 0s 11ms/step - loss: 0.1150 - accuracy: 0.9477\n",
            "Epoch 115/200\n",
            "1/1 [==============================] - 0s 8ms/step - loss: 0.1140 - accuracy: 0.9477\n",
            "Epoch 116/200\n",
            "1/1 [==============================] - 0s 9ms/step - loss: 0.1129 - accuracy: 0.9477\n",
            "Epoch 117/200\n",
            "1/1 [==============================] - 0s 10ms/step - loss: 0.1119 - accuracy: 0.9477\n",
            "Epoch 118/200\n",
            "1/1 [==============================] - 0s 8ms/step - loss: 0.1109 - accuracy: 0.9477\n",
            "Epoch 119/200\n",
            "1/1 [==============================] - 0s 8ms/step - loss: 0.1098 - accuracy: 0.9477\n",
            "Epoch 120/200\n",
            "1/1 [==============================] - 0s 8ms/step - loss: 0.1088 - accuracy: 0.9477\n",
            "Epoch 121/200\n",
            "1/1 [==============================] - 0s 7ms/step - loss: 0.1078 - accuracy: 0.9477\n",
            "Epoch 122/200\n",
            "1/1 [==============================] - 0s 8ms/step - loss: 0.1068 - accuracy: 0.9477\n",
            "Epoch 123/200\n",
            "1/1 [==============================] - 0s 8ms/step - loss: 0.1059 - accuracy: 0.9477\n",
            "Epoch 124/200\n",
            "1/1 [==============================] - 0s 8ms/step - loss: 0.1049 - accuracy: 0.9477\n",
            "Epoch 125/200\n",
            "1/1 [==============================] - 0s 8ms/step - loss: 0.1039 - accuracy: 0.9477\n",
            "Epoch 126/200\n",
            "1/1 [==============================] - 0s 8ms/step - loss: 0.1030 - accuracy: 0.9477\n",
            "Epoch 127/200\n",
            "1/1 [==============================] - 0s 9ms/step - loss: 0.1020 - accuracy: 0.9477\n",
            "Epoch 128/200\n",
            "1/1 [==============================] - 0s 9ms/step - loss: 0.1011 - accuracy: 0.9535\n",
            "Epoch 129/200\n",
            "1/1 [==============================] - 0s 8ms/step - loss: 0.1002 - accuracy: 0.9535\n",
            "Epoch 130/200\n",
            "1/1 [==============================] - 0s 8ms/step - loss: 0.0993 - accuracy: 0.9535\n",
            "Epoch 131/200\n",
            "1/1 [==============================] - 0s 8ms/step - loss: 0.0985 - accuracy: 0.9593\n",
            "Epoch 132/200\n",
            "1/1 [==============================] - 0s 54ms/step - loss: 0.0977 - accuracy: 0.9593\n",
            "Epoch 133/200\n",
            "1/1 [==============================] - 0s 79ms/step - loss: 0.0969 - accuracy: 0.9593\n",
            "Epoch 134/200\n",
            "1/1 [==============================] - 0s 68ms/step - loss: 0.0961 - accuracy: 0.9593\n",
            "Epoch 135/200\n",
            "1/1 [==============================] - 0s 39ms/step - loss: 0.0953 - accuracy: 0.9593\n",
            "Epoch 136/200\n",
            "1/1 [==============================] - 0s 43ms/step - loss: 0.0946 - accuracy: 0.9593\n",
            "Epoch 137/200\n",
            "1/1 [==============================] - 0s 13ms/step - loss: 0.0938 - accuracy: 0.9593\n",
            "Epoch 138/200\n",
            "1/1 [==============================] - 0s 12ms/step - loss: 0.0931 - accuracy: 0.9593\n",
            "Epoch 139/200\n",
            "1/1 [==============================] - 0s 15ms/step - loss: 0.0924 - accuracy: 0.9593\n",
            "Epoch 140/200\n",
            "1/1 [==============================] - 0s 11ms/step - loss: 0.0917 - accuracy: 0.9593\n",
            "Epoch 141/200\n",
            "1/1 [==============================] - 0s 10ms/step - loss: 0.0910 - accuracy: 0.9593\n",
            "Epoch 142/200\n",
            "1/1 [==============================] - 0s 16ms/step - loss: 0.0903 - accuracy: 0.9593\n",
            "Epoch 143/200\n",
            "1/1 [==============================] - 0s 12ms/step - loss: 0.0896 - accuracy: 0.9593\n",
            "Epoch 144/200\n",
            "1/1 [==============================] - 0s 10ms/step - loss: 0.0890 - accuracy: 0.9593\n",
            "Epoch 145/200\n",
            "1/1 [==============================] - 0s 10ms/step - loss: 0.0883 - accuracy: 0.9593\n",
            "Epoch 146/200\n",
            "1/1 [==============================] - 0s 13ms/step - loss: 0.0877 - accuracy: 0.9593\n",
            "Epoch 147/200\n",
            "1/1 [==============================] - 0s 12ms/step - loss: 0.0871 - accuracy: 0.9593\n",
            "Epoch 148/200\n",
            "1/1 [==============================] - 0s 10ms/step - loss: 0.0865 - accuracy: 0.9593\n",
            "Epoch 149/200\n",
            "1/1 [==============================] - 0s 7ms/step - loss: 0.0859 - accuracy: 0.9593\n",
            "Epoch 150/200\n",
            "1/1 [==============================] - 0s 7ms/step - loss: 0.0853 - accuracy: 0.9593\n",
            "Epoch 151/200\n",
            "1/1 [==============================] - 0s 9ms/step - loss: 0.0847 - accuracy: 0.9593\n",
            "Epoch 152/200\n",
            "1/1 [==============================] - 0s 10ms/step - loss: 0.0841 - accuracy: 0.9593\n",
            "Epoch 153/200\n",
            "1/1 [==============================] - 0s 11ms/step - loss: 0.0835 - accuracy: 0.9593\n",
            "Epoch 154/200\n",
            "1/1 [==============================] - 0s 9ms/step - loss: 0.0830 - accuracy: 0.9593\n",
            "Epoch 155/200\n",
            "1/1 [==============================] - 0s 10ms/step - loss: 0.0825 - accuracy: 0.9593\n",
            "Epoch 156/200\n",
            "1/1 [==============================] - 0s 13ms/step - loss: 0.0820 - accuracy: 0.9593\n",
            "Epoch 157/200\n",
            "1/1 [==============================] - 0s 9ms/step - loss: 0.0815 - accuracy: 0.9593\n",
            "Epoch 158/200\n",
            "1/1 [==============================] - 0s 7ms/step - loss: 0.0810 - accuracy: 0.9593\n",
            "Epoch 159/200\n",
            "1/1 [==============================] - 0s 8ms/step - loss: 0.0805 - accuracy: 0.9593\n",
            "Epoch 160/200\n",
            "1/1 [==============================] - 0s 10ms/step - loss: 0.0801 - accuracy: 0.9593\n",
            "Epoch 161/200\n",
            "1/1 [==============================] - 0s 8ms/step - loss: 0.0796 - accuracy: 0.9593\n",
            "Epoch 162/200\n",
            "1/1 [==============================] - 0s 9ms/step - loss: 0.0791 - accuracy: 0.9593\n",
            "Epoch 163/200\n",
            "1/1 [==============================] - 0s 10ms/step - loss: 0.0787 - accuracy: 0.9593\n",
            "Epoch 164/200\n",
            "1/1 [==============================] - 0s 8ms/step - loss: 0.0782 - accuracy: 0.9593\n",
            "Epoch 165/200\n",
            "1/1 [==============================] - 0s 14ms/step - loss: 0.0777 - accuracy: 0.9593\n",
            "Epoch 166/200\n",
            "1/1 [==============================] - 0s 8ms/step - loss: 0.0773 - accuracy: 0.9593\n",
            "Epoch 167/200\n",
            "1/1 [==============================] - 0s 7ms/step - loss: 0.0768 - accuracy: 0.9593\n",
            "Epoch 168/200\n",
            "1/1 [==============================] - 0s 8ms/step - loss: 0.0764 - accuracy: 0.9593\n",
            "Epoch 169/200\n",
            "1/1 [==============================] - 0s 10ms/step - loss: 0.0759 - accuracy: 0.9593\n",
            "Epoch 170/200\n",
            "1/1 [==============================] - 0s 8ms/step - loss: 0.0755 - accuracy: 0.9593\n",
            "Epoch 171/200\n",
            "1/1 [==============================] - 0s 10ms/step - loss: 0.0750 - accuracy: 0.9593\n",
            "Epoch 172/200\n",
            "1/1 [==============================] - 0s 12ms/step - loss: 0.0746 - accuracy: 0.9593\n",
            "Epoch 173/200\n",
            "1/1 [==============================] - 0s 9ms/step - loss: 0.0742 - accuracy: 0.9593\n",
            "Epoch 174/200\n",
            "1/1 [==============================] - 0s 12ms/step - loss: 0.0738 - accuracy: 0.9593\n",
            "Epoch 175/200\n",
            "1/1 [==============================] - 0s 10ms/step - loss: 0.0733 - accuracy: 0.9593\n",
            "Epoch 176/200\n",
            "1/1 [==============================] - 0s 8ms/step - loss: 0.0729 - accuracy: 0.9593\n",
            "Epoch 177/200\n",
            "1/1 [==============================] - 0s 8ms/step - loss: 0.0725 - accuracy: 0.9593\n",
            "Epoch 178/200\n",
            "1/1 [==============================] - 0s 9ms/step - loss: 0.0721 - accuracy: 0.9593\n",
            "Epoch 179/200\n",
            "1/1 [==============================] - 0s 10ms/step - loss: 0.0716 - accuracy: 0.9593\n",
            "Epoch 180/200\n",
            "1/1 [==============================] - 0s 13ms/step - loss: 0.0712 - accuracy: 0.9651\n",
            "Epoch 181/200\n",
            "1/1 [==============================] - 0s 10ms/step - loss: 0.0708 - accuracy: 0.9651\n",
            "Epoch 182/200\n",
            "1/1 [==============================] - 0s 9ms/step - loss: 0.0704 - accuracy: 0.9651\n",
            "Epoch 183/200\n",
            "1/1 [==============================] - 0s 8ms/step - loss: 0.0701 - accuracy: 0.9651\n",
            "Epoch 184/200\n",
            "1/1 [==============================] - 0s 12ms/step - loss: 0.0697 - accuracy: 0.9651\n",
            "Epoch 185/200\n",
            "1/1 [==============================] - 0s 10ms/step - loss: 0.0693 - accuracy: 0.9651\n",
            "Epoch 186/200\n",
            "1/1 [==============================] - 0s 12ms/step - loss: 0.0689 - accuracy: 0.9709\n",
            "Epoch 187/200\n",
            "1/1 [==============================] - 0s 9ms/step - loss: 0.0685 - accuracy: 0.9709\n",
            "Epoch 188/200\n",
            "1/1 [==============================] - 0s 9ms/step - loss: 0.0681 - accuracy: 0.9709\n",
            "Epoch 189/200\n",
            "1/1 [==============================] - 0s 10ms/step - loss: 0.0677 - accuracy: 0.9709\n",
            "Epoch 190/200\n",
            "1/1 [==============================] - 0s 8ms/step - loss: 0.0674 - accuracy: 0.9709\n",
            "Epoch 191/200\n",
            "1/1 [==============================] - 0s 8ms/step - loss: 0.0670 - accuracy: 0.9709\n",
            "Epoch 192/200\n",
            "1/1 [==============================] - 0s 9ms/step - loss: 0.0666 - accuracy: 0.9709\n",
            "Epoch 193/200\n",
            "1/1 [==============================] - 0s 11ms/step - loss: 0.0663 - accuracy: 0.9709\n",
            "Epoch 194/200\n",
            "1/1 [==============================] - 0s 8ms/step - loss: 0.0659 - accuracy: 0.9709\n",
            "Epoch 195/200\n",
            "1/1 [==============================] - 0s 8ms/step - loss: 0.0655 - accuracy: 0.9709\n",
            "Epoch 196/200\n",
            "1/1 [==============================] - 0s 9ms/step - loss: 0.0652 - accuracy: 0.9709\n",
            "Epoch 197/200\n",
            "1/1 [==============================] - 0s 12ms/step - loss: 0.0649 - accuracy: 0.9709\n",
            "Epoch 198/200\n",
            "1/1 [==============================] - 0s 9ms/step - loss: 0.0645 - accuracy: 0.9709\n",
            "Epoch 199/200\n",
            "1/1 [==============================] - 0s 7ms/step - loss: 0.0642 - accuracy: 0.9709\n",
            "Epoch 200/200\n",
            "1/1 [==============================] - 0s 7ms/step - loss: 0.0638 - accuracy: 0.9709\n"
          ]
        }
      ]
    },
    {
      "cell_type": "code",
      "source": [
        "model.save('ckd.model')\n"
      ],
      "metadata": {
        "id": "mFH7eiwBAJem"
      },
      "execution_count": 172,
      "outputs": []
    },
    {
      "cell_type": "code",
      "source": [
        "plt.plot(history.history['accuracy'])\n",
        "plt.plot(history.history['loss'])\n",
        "plt.title('model accuracy & loss')\n",
        "plt.ylabel('accuracy and loss')\n",
        "plt.xlabel('epoch')\n",
        "\n"
      ],
      "metadata": {
        "colab": {
          "base_uri": "https://localhost:8080/",
          "height": 312
        },
        "id": "pxfa5I44AWZ9",
        "outputId": "3fd51687-2f0a-4cf6-bd0f-fa773e5215d3"
      },
      "execution_count": 173,
      "outputs": [
        {
          "output_type": "execute_result",
          "data": {
            "text/plain": [
              "Text(0.5, 0, 'epoch')"
            ]
          },
          "metadata": {},
          "execution_count": 173
        },
        {
          "output_type": "display_data",
          "data": {
            "text/plain": [
              "<Figure size 432x288 with 1 Axes>"
            ],
            "image/png": "[encoded data removed]"
          },
          "metadata": {
            "needs_background": "light"
          }
        }
      ]
    },
    {
      "cell_type": "code",
      "source": [
        "print('shape of traning data:',x_train.shape)\n",
        "print('shape of test data:',x_test.shape)\n"
      ],
      "metadata": {
        "colab": {
          "base_uri": "https://localhost:8080/"
        },
        "id": "8642GyJJAZwh",
        "outputId": "edd2124c-d2b2-46dc-edb8-fb7e6689b997"
      },
      "execution_count": 174,
      "outputs": [
        {
          "output_type": "stream",
          "name": "stdout",
          "text": [
            "shape of traning data: (172, 6)\n",
            "shape of test data: (115, 6)\n"
          ]
        }
      ]
    },
    {
      "cell_type": "code",
      "source": [
        "pred = model.predict(x_test)\n",
        "pred = [1 if y>=0.5 else 0 for y in pred]\n",
        "pred\n",
        "print('Original : {0}'.format(\", \".join(str(x) for x in y_test)))\n",
        "print('Predicted : {0}'.format(\", \".join(str(x) for x in pred)))\n"
      ],
      "metadata": {
        "colab": {
          "base_uri": "https://localhost:8080/"
        },
        "id": "-VUwcROGAdwj",
        "outputId": "9000e1e7-8a3d-4d45-bbde-8a15a2456462"
      },
      "execution_count": 175,
      "outputs": [
        {
          "output_type": "stream",
          "name": "stdout",
          "text": [
            "4/4 [==============================] - 0s 3ms/step\n",
            "Original : 0, 0, 0, 1, 0, 1, 1, 1, 0, 1, 0, 1, 0, 0, 0, 1, 1, 1, 0, 1, 0, 1, 0, 1, 0, 0, 1, 1, 0, 1, 0, 1, 1, 1, 0, 1, 1, 1, 1, 0, 1, 1, 0, 1, 0, 1, 1, 0, 0, 0, 1, 1, 0, 0, 0, 1, 1, 0, 0, 1, 0, 1, 1, 0, 1, 1, 0, 1, 0, 0, 1, 1, 1, 1, 1, 0, 0, 1, 1, 1, 0, 0, 0, 0, 0, 0, 0, 1, 1, 0, 1, 0, 0, 1, 0, 0, 0, 0, 0, 0, 0, 0, 1, 0, 0, 1, 0, 1, 0, 0, 0, 0, 1, 1, 0\n",
            "Predicted : 0, 0, 0, 1, 0, 1, 1, 1, 0, 1, 0, 1, 0, 0, 0, 1, 1, 1, 1, 1, 0, 1, 0, 1, 0, 0, 1, 1, 0, 1, 0, 1, 1, 1, 0, 1, 1, 1, 1, 0, 1, 1, 0, 1, 0, 1, 1, 0, 0, 1, 1, 1, 0, 0, 0, 1, 1, 0, 0, 1, 0, 1, 1, 0, 1, 1, 0, 1, 0, 0, 1, 1, 1, 1, 1, 0, 0, 1, 1, 1, 0, 0, 0, 0, 0, 0, 0, 1, 1, 0, 1, 0, 0, 1, 0, 0, 0, 0, 1, 0, 0, 0, 1, 0, 0, 1, 0, 1, 0, 0, 1, 0, 1, 1, 0\n"
          ]
        }
      ]
    },
    {
      "cell_type": "code",
      "source": [
        "\n",
        "from sklearn.neighbors import KNeighborsClassifier\n",
        "from sklearn.metrics import accuracy_score, confusion_matrix, classification_report\n",
        "\n",
        "knn = KNeighborsClassifier()\n",
        "knn.fit(x_train, y_train)\n"
      ],
      "metadata": {
        "colab": {
          "base_uri": "https://localhost:8080/"
        },
        "id": "Uge7CYn5AhFZ",
        "outputId": "7353a5aa-960b-4b59-b797-bd6751223118"
      },
      "execution_count": 176,
      "outputs": [
        {
          "output_type": "execute_result",
          "data": {
            "text/plain": [
              "KNeighborsClassifier()"
            ]
          },
          "metadata": {},
          "execution_count": 176
        }
      ]
    },
    {
      "cell_type": "code",
      "source": [
        "knn_acc = accuracy_score(y_test, knn.predict(x_test))\n",
        "\n"
      ],
      "metadata": {
        "id": "WzXPG7xqAp4l"
      },
      "execution_count": 177,
      "outputs": []
    },
    {
      "cell_type": "code",
      "source": [
        "print(f\"Training Accuracy of KNN is {accuracy_score(y_train, knn.predict(x_train))}\")\n",
        "print(f\"Test Accuracy of KNN is {knn_acc} \\n\")\n"
      ],
      "metadata": {
        "colab": {
          "base_uri": "https://localhost:8080/"
        },
        "id": "nKNyFdqgAsr5",
        "outputId": "f1e13b6e-7621-4454-89de-00ab14e208cb"
      },
      "execution_count": 178,
      "outputs": [
        {
          "output_type": "stream",
          "name": "stdout",
          "text": [
            "Training Accuracy of KNN is 0.9941860465116279\n",
            "Test Accuracy of KNN is 0.9826086956521739 \n",
            "\n"
          ]
        }
      ]
    },
    {
      "cell_type": "code",
      "source": [
        "print(f\"Confusion Matrix :- \\n{confusion_matrix(y_test, knn.predict(x_test))}\\n\")\n",
        "print(f\"Classification Report :- \\n {classification_report(y_test, knn.predict(x_test))}\")\n"
      ],
      "metadata": {
        "colab": {
          "base_uri": "https://localhost:8080/"
        },
        "id": "zJX8tzrQAvPi",
        "outputId": "3752847d-1a2b-4ee6-e1b0-c4ddabe52933"
      },
      "execution_count": 179,
      "outputs": [
        {
          "output_type": "stream",
          "name": "stdout",
          "text": [
            "Confusion Matrix :- \n",
            "[[59  2]\n",
            " [ 0 54]]\n",
            "\n",
            "Classification Report :- \n",
            "               precision    recall  f1-score   support\n",
            "\n",
            "           0       1.00      0.97      0.98        61\n",
            "           1       0.96      1.00      0.98        54\n",
            "\n",
            "    accuracy                           0.98       115\n",
            "   macro avg       0.98      0.98      0.98       115\n",
            "weighted avg       0.98      0.98      0.98       115\n",
            "\n"
          ]
        }
      ]
    },
    {
      "cell_type": "code",
      "source": [
        "from sklearn.tree import DecisionTreeClassifier\n",
        "\n",
        "dtc = DecisionTreeClassifier()\n",
        "dtc.fit(x_train, y_train)\n"
      ],
      "metadata": {
        "colab": {
          "base_uri": "https://localhost:8080/"
        },
        "id": "mmbSyFIyAzi-",
        "outputId": "a873e70c-7fbb-4225-a913-9c9819384ee8"
      },
      "execution_count": 180,
      "outputs": [
        {
          "output_type": "execute_result",
          "data": {
            "text/plain": [
              "DecisionTreeClassifier()"
            ]
          },
          "metadata": {},
          "execution_count": 180
        }
      ]
    },
    {
      "cell_type": "code",
      "source": [
        "# accuracy score, confusion matrix and classification report of decision tree\n",
        "\n",
        "dtc_acc = accuracy_score(y_test, dtc.predict(x_test))\n"
      ],
      "metadata": {
        "id": "DDIlYgoIA2H9"
      },
      "execution_count": 181,
      "outputs": []
    },
    {
      "cell_type": "code",
      "source": [
        "print(f\"Training Accuracy of Decision Tree Classifier is {accuracy_score(y_train, dtc.predict(x_train))}\")\n",
        "print(f\"Test Accuracy of Decision Tree Classifier is {dtc_acc} \\n\")\n"
      ],
      "metadata": {
        "colab": {
          "base_uri": "https://localhost:8080/"
        },
        "id": "dbTKpd54BA00",
        "outputId": "a4475e0c-c9d9-4fd5-cdcb-83edf338920a"
      },
      "execution_count": 182,
      "outputs": [
        {
          "output_type": "stream",
          "name": "stdout",
          "text": [
            "Training Accuracy of Decision Tree Classifier is 1.0\n",
            "Test Accuracy of Decision Tree Classifier is 0.9739130434782609 \n",
            "\n"
          ]
        }
      ]
    },
    {
      "cell_type": "code",
      "source": [
        "print(f\"Confusion Matrix :- \\n{confusion_matrix(y_test, dtc.predict(x_test))}\\n\")\n",
        "print(f\"Classification Report :- \\n {classification_report(y_test, dtc.predict(x_test))}\")\n"
      ],
      "metadata": {
        "colab": {
          "base_uri": "https://localhost:8080/"
        },
        "id": "mCVirifSBGnX",
        "outputId": "90910f8c-be9e-45cb-929b-205954fdfb3b"
      },
      "execution_count": 183,
      "outputs": [
        {
          "output_type": "stream",
          "name": "stdout",
          "text": [
            "Confusion Matrix :- \n",
            "[[58  3]\n",
            " [ 0 54]]\n",
            "\n",
            "Classification Report :- \n",
            "               precision    recall  f1-score   support\n",
            "\n",
            "           0       1.00      0.95      0.97        61\n",
            "           1       0.95      1.00      0.97        54\n",
            "\n",
            "    accuracy                           0.97       115\n",
            "   macro avg       0.97      0.98      0.97       115\n",
            "weighted avg       0.98      0.97      0.97       115\n",
            "\n"
          ]
        }
      ]
    },
    {
      "cell_type": "code",
      "source": [
        "from lightgbm import LGBMClassifier\n",
        "\n",
        "lgbm = LGBMClassifier(learning_rate = 1)\n",
        "lgbm.fit(x_train, y_train)\n"
      ],
      "metadata": {
        "colab": {
          "base_uri": "https://localhost:8080/"
        },
        "id": "-B2ne-bTBZVz",
        "outputId": "52e755fb-ed12-494e-a1b9-03ec8cc168c3"
      },
      "execution_count": 184,
      "outputs": [
        {
          "output_type": "execute_result",
          "data": {
            "text/plain": [
              "LGBMClassifier(learning_rate=1)"
            ]
          },
          "metadata": {},
          "execution_count": 184
        }
      ]
    },
    {
      "cell_type": "code",
      "source": [
        "# accuracy score, confusion matrix and classification report of lgbm classifier\n",
        "\n",
        "lgbm_acc = accuracy_score(y_test, lgbm.predict(x_test))\n",
        "\n"
      ],
      "metadata": {
        "id": "AnvFQjWzBdh9"
      },
      "execution_count": 185,
      "outputs": []
    },
    {
      "cell_type": "code",
      "source": [
        "\n",
        "print(f\"Training Accuracy of LGBM Classifier is {accuracy_score(y_train, lgbm.predict(x_train))}\")\n",
        "print(f\"Test Accuracy of LGBM Classifier is {lgbm_acc} \\n\")\n"
      ],
      "metadata": {
        "colab": {
          "base_uri": "https://localhost:8080/"
        },
        "id": "WUMWdgCHBf7B",
        "outputId": "ab7a6ea5-f89d-444f-a2e5-8cbeb56f39ca"
      },
      "execution_count": 186,
      "outputs": [
        {
          "output_type": "stream",
          "name": "stdout",
          "text": [
            "Training Accuracy of LGBM Classifier is 1.0\n",
            "Test Accuracy of LGBM Classifier is 0.991304347826087 \n",
            "\n"
          ]
        }
      ]
    },
    {
      "cell_type": "code",
      "source": [
        "print(f\"{confusion_matrix(y_test, lgbm.predict(x_test))}\\n\")\n",
        "print(classification_report(y_test, lgbm.predict(x_test)))\n"
      ],
      "metadata": {
        "colab": {
          "base_uri": "https://localhost:8080/"
        },
        "id": "5J_xaTMgBiWu",
        "outputId": "e58f0f77-ea18-44f5-c653-d81fe2de1a19"
      },
      "execution_count": 187,
      "outputs": [
        {
          "output_type": "stream",
          "name": "stdout",
          "text": [
            "[[60  1]\n",
            " [ 0 54]]\n",
            "\n",
            "              precision    recall  f1-score   support\n",
            "\n",
            "           0       1.00      0.98      0.99        61\n",
            "           1       0.98      1.00      0.99        54\n",
            "\n",
            "    accuracy                           0.99       115\n",
            "   macro avg       0.99      0.99      0.99       115\n",
            "weighted avg       0.99      0.99      0.99       115\n",
            "\n"
          ]
        }
      ]
    },
    {
      "cell_type": "code",
      "source": [
        "\n",
        "from sklearn.ensemble import RandomForestClassifier\n",
        "\n",
        "rd_clf = RandomForestClassifier(criterion = 'entropy', max_depth = 11, max_features = 'auto', min_samples_leaf = 2, min_samples_split = 3, n_estimators = 130)\n",
        "rd_clf.fit(x_train, y_train)\n"
      ],
      "metadata": {
        "colab": {
          "base_uri": "https://localhost:8080/"
        },
        "id": "Jtddf5QSBwS4",
        "outputId": "233e4d07-8179-4e03-8a4c-f43b834f2aa8"
      },
      "execution_count": 188,
      "outputs": [
        {
          "output_type": "execute_result",
          "data": {
            "text/plain": [
              "RandomForestClassifier(criterion='entropy', max_depth=11, min_samples_leaf=2,\n",
              "                       min_samples_split=3, n_estimators=130)"
            ]
          },
          "metadata": {},
          "execution_count": 188
        }
      ]
    },
    {
      "cell_type": "code",
      "source": [
        "\n",
        "# accuracy score, confusion matrix and classification report of random forest\n",
        "\n",
        "rd_clf_acc = accuracy_score(y_test, rd_clf.predict(x_test))"
      ],
      "metadata": {
        "id": "6SMPbNWdB3KH"
      },
      "execution_count": 189,
      "outputs": []
    },
    {
      "cell_type": "code",
      "source": [
        "print(f\"Training Accuracy of Random Forest Classifier is {accuracy_score(y_train, rd_clf.predict(x_train))}\")\n",
        "print(f\"Test Accuracy of Random Forest Classifier is {rd_clf_acc} \\n\")\n",
        "\n",
        "\n"
      ],
      "metadata": {
        "colab": {
          "base_uri": "https://localhost:8080/"
        },
        "id": "3aNGfTMACCyY",
        "outputId": "e9a4c6b9-ac5b-4d06-90b9-dbe987deb48d"
      },
      "execution_count": 190,
      "outputs": [
        {
          "output_type": "stream",
          "name": "stdout",
          "text": [
            "Training Accuracy of Random Forest Classifier is 1.0\n",
            "Test Accuracy of Random Forest Classifier is 0.991304347826087 \n",
            "\n"
          ]
        }
      ]
    },
    {
      "cell_type": "code",
      "source": [
        "print(f\"Confusion Matrix :- \\n{confusion_matrix(y_test, dtc.predict(x_test))}\\n\")\n",
        "print(f\"Classification Report :- \\n {classification_report(y_test, rd_clf.predict(x_test))}\")\n"
      ],
      "metadata": {
        "id": "WfGz7-ynwdFw",
        "outputId": "111c22fc-b920-4e20-84f1-a0800f5af870",
        "colab": {
          "base_uri": "https://localhost:8080/"
        }
      },
      "execution_count": 191,
      "outputs": [
        {
          "output_type": "stream",
          "name": "stdout",
          "text": [
            "Confusion Matrix :- \n",
            "[[58  3]\n",
            " [ 0 54]]\n",
            "\n",
            "Classification Report :- \n",
            "               precision    recall  f1-score   support\n",
            "\n",
            "           0       1.00      0.98      0.99        61\n",
            "           1       0.98      1.00      0.99        54\n",
            "\n",
            "    accuracy                           0.99       115\n",
            "   macro avg       0.99      0.99      0.99       115\n",
            "weighted avg       0.99      0.99      0.99       115\n",
            "\n"
          ]
        }
      ]
    },
    {
      "cell_type": "code",
      "source": [
        "models = pd.DataFrame({\n",
        "    'Model' : [ 'KNN', 'Decision Tree Classifier', 'LGBM Classifier', 'Random Forest Classifier'],\n",
        "    'Score' : [knn_acc, dtc_acc, lgbm_acc, rd_clf_acc]\n",
        "})"
      ],
      "metadata": {
        "id": "OpvH070PwsYB"
      },
      "execution_count": 192,
      "outputs": []
    },
    {
      "cell_type": "code",
      "source": [
        "models.sort_values(by = 'Score', ascending = False)\n"
      ],
      "metadata": {
        "id": "XfPX_s-sypoS",
        "outputId": "4c0592c0-9920-4fd5-8af1-16ad4c9badf7",
        "colab": {
          "base_uri": "https://localhost:8080/",
          "height": 175
        }
      },
      "execution_count": 193,
      "outputs": [
        {
          "output_type": "execute_result",
          "data": {
            "text/plain": [
              "                      Model     Score\n",
              "2           LGBM Classifier  0.991304\n",
              "3  Random Forest Classifier  0.991304\n",
              "0                       KNN  0.982609\n",
              "1  Decision Tree Classifier  0.973913"
            ],
            "text/html": [
              "\n",
              "  <div id=\"df-58228217-97a3-4849-ab6e-278ca9e0879c\">\n",
              "    <div class=\"colab-df-container\">\n",
              "      <div>\n",
              "<style scoped>\n",
              "    .dataframe tbody tr th:only-of-type {\n",
              "        vertical-align: middle;\n",
              "    }\n",
              "\n",
              "    .dataframe tbody tr th {\n",
              "        vertical-align: top;\n",
              "    }\n",
              "\n",
              "    .dataframe thead th {\n",
              "        text-align: right;\n",
              "    }\n",
              "</style>\n",
              "<table border=\"1\" class=\"dataframe\">\n",
              "  <thead>\n",
              "    <tr style=\"text-align: right;\">\n",
              "      <th></th>\n",
              "      <th>Model</th>\n",
              "      <th>Score</th>\n",
              "    </tr>\n",
              "  </thead>\n",
              "  <tbody>\n",
              "    <tr>\n",
              "      <th>2</th>\n",
              "      <td>LGBM Classifier</td>\n",
              "      <td>0.991304</td>\n",
              "    </tr>\n",
              "    <tr>\n",
              "      <th>3</th>\n",
              "      <td>Random Forest Classifier</td>\n",
              "      <td>0.991304</td>\n",
              "    </tr>\n",
              "    <tr>\n",
              "      <th>0</th>\n",
              "      <td>KNN</td>\n",
              "      <td>0.982609</td>\n",
              "    </tr>\n",
              "    <tr>\n",
              "      <th>1</th>\n",
              "      <td>Decision Tree Classifier</td>\n",
              "      <td>0.973913</td>\n",
              "    </tr>\n",
              "  </tbody>\n",
              "</table>\n",
              "</div>\n",
              "      <button class=\"colab-df-convert\" onclick=\"convertToInteractive('df-58228217-97a3-4849-ab6e-278ca9e0879c')\"\n",
              "              title=\"Convert this dataframe to an interactive table.\"\n",
              "              style=\"display:none;\">\n",
              "        \n",
              "  <svg xmlns=\"http://www.w3.org/2000/svg\" height=\"24px\"viewBox=\"0 0 24 24\"\n",
              "       width=\"24px\">\n",
              "    <path d=\"M0 0h24v24H0V0z\" fill=\"none\"/>\n",
              "    <path d=\"M18.56 5.44l.94 2.06.94-2.06 2.06-.94-2.06-.94-.94-2.06-.94 2.06-2.06.94zm-11 1L8.5 8.5l.94-2.06 2.06-.94-2.06-.94L8.5 2.5l-.94 2.06-2.06.94zm10 10l.94 2.06.94-2.06 2.06-.94-2.06-.94-.94-2.06-.94 2.06-2.06.94z\"/><path d=\"M17.41 7.96l-1.37-1.37c-.4-.4-.92-.59-1.43-.59-.52 0-1.04.2-1.43.59L10.3 9.45l-7.72 7.72c-.78.78-.78 2.05 0 2.83L4 21.41c.39.39.9.59 1.41.59.51 0 1.02-.2 1.41-.59l7.78-7.78 2.81-2.81c.8-.78.8-2.07 0-2.86zM5.41 20L4 18.59l7.72-7.72 1.47 1.35L5.41 20z\"/>\n",
              "  </svg>\n",
              "      </button>\n",
              "      \n",
              "  <style>\n",
              "    .colab-df-container {\n",
              "      display:flex;\n",
              "      flex-wrap:wrap;\n",
              "      gap: 12px;\n",
              "    }\n",
              "\n",
              "    .colab-df-convert {\n",
              "      background-color: #E8F0FE;\n",
              "      border: none;\n",
              "      border-radius: 50%;\n",
              "      cursor: pointer;\n",
              "      display: none;\n",
              "      fill: #1967D2;\n",
              "      height: 32px;\n",
              "      padding: 0 0 0 0;\n",
              "      width: 32px;\n",
              "    }\n",
              "\n",
              "    .colab-df-convert:hover {\n",
              "      background-color: #E2EBFA;\n",
              "      box-shadow: 0px 1px 2px rgba(60, 64, 67, 0.3), 0px 1px 3px 1px rgba(60, 64, 67, 0.15);\n",
              "      fill: #174EA6;\n",
              "    }\n",
              "\n",
              "    [theme=dark] .colab-df-convert {\n",
              "      background-color: #3B4455;\n",
              "      fill: #D2E3FC;\n",
              "    }\n",
              "\n",
              "    [theme=dark] .colab-df-convert:hover {\n",
              "      background-color: #434B5C;\n",
              "      box-shadow: 0px 1px 3px 1px rgba(0, 0, 0, 0.15);\n",
              "      filter: drop-shadow(0px 1px 2px rgba(0, 0, 0, 0.3));\n",
              "      fill: #FFFFFF;\n",
              "    }\n",
              "  </style>\n",
              "\n",
              "      <script>\n",
              "        const buttonEl =\n",
              "          document.querySelector('#df-58228217-97a3-4849-ab6e-278ca9e0879c button.colab-df-convert');\n",
              "        buttonEl.style.display =\n",
              "          google.colab.kernel.accessAllowed ? 'block' : 'none';\n",
              "\n",
              "        async function convertToInteractive(key) {\n",
              "          const element = document.querySelector('#df-58228217-97a3-4849-ab6e-278ca9e0879c');\n",
              "          const dataTable =\n",
              "            await google.colab.kernel.invokeFunction('convertToInteractive',\n",
              "                                                     [key], {});\n",
              "          if (!dataTable) return;\n",
              "\n",
              "          const docLinkHtml = 'Like what you see? Visit the ' +\n",
              "            '<a target=\"_blank\" href=https://colab.research.google.com/notebooks/data_table.ipynb>data table notebook</a>'\n",
              "            + ' to learn more about interactive tables.';\n",
              "          element.innerHTML = '';\n",
              "          dataTable['output_type'] = 'display_data';\n",
              "          await google.colab.output.renderOutput(dataTable, element);\n",
              "          const docLink = document.createElement('div');\n",
              "          docLink.innerHTML = docLinkHtml;\n",
              "          element.appendChild(docLink);\n",
              "        }\n",
              "      </script>\n",
              "    </div>\n",
              "  </div>\n",
              "  "
            ]
          },
          "metadata": {},
          "execution_count": 193
        }
      ]
    },
    {
      "cell_type": "code",
      "source": [],
      "metadata": {
        "id": "yFwSTZH5ytVo"
      },
      "execution_count": 112,
      "outputs": []
    }
  ]
}